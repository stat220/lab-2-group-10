{
  "nbformat": 4,
  "nbformat_minor": 0,
  "metadata": {
    "colab": {
      "provenance": []
    },
    "kernelspec": {
      "name": "python3",
      "display_name": "Python 3"
    },
    "language_info": {
      "name": "python"
    }
  },
  "cells": [
    {
      "cell_type": "markdown",
      "source": [
        "Scenario A: Probability of Rolling Sum Greater than\n",
        "𝑥\n",
        "\n",
        "For this scenario, we calculated the probability that the sum of\n",
        "m dice, each with\n",
        "𝑛\n",
        " sides, is greater than a target\n",
        "𝑥\n",
        ". Here's the Python code for this:"
      ],
      "metadata": {
        "id": "-lfNdHJyGd97"
      }
    },
    {
      "cell_type": "code",
      "execution_count": null,
      "metadata": {
        "id": "2YRsuKcLGHDv"
      },
      "outputs": [],
      "source": [
        "import itertools\n",
        "import numpy as np\n",
        "\n",
        "def prob_sum_greater_than_x(m, n, x):\n",
        "    \"\"\"\n",
        "    Calculate the probability of rolling m dice (each with n sides)\n",
        "    and the sum being greater than x.\n",
        "\n",
        "    Args:\n",
        "    m (int): Number of dice.\n",
        "    n (int): Number of sides per die.\n",
        "    x (int): Target sum.\n",
        "\n",
        "    Returns:\n",
        "    float: The probability of the sum being greater than x.\n",
        "    \"\"\"\n",
        "    # Generate all possible outcomes for rolling m dice with n sides\n",
        "    rolls = list(itertools.product(range(1, n+1), repeat=m))\n",
        "\n",
        "    # Calculate the sum for each possible outcome\n",
        "    sums = np.array([sum(roll) for roll in rolls])\n",
        "\n",
        "    # Calculate the proportion of outcomes where the sum is greater than x\n",
        "    probability = np.mean(sums > x)\n",
        "\n",
        "    return probability\n"
      ]
    },
    {
      "cell_type": "markdown",
      "source": [
        "Scenario B: Probability of At Least One Die Showing a Value Greater than or Equal to\n",
        "𝑥\n",
        "For this scenario, we calculated the probability that at least one of\n",
        "𝑚 dice, each with\n",
        "𝑛 sides, shows a value greater than or equal to\n",
        "𝑥."
      ],
      "metadata": {
        "id": "5mmnylcdG0Nz"
      }
    },
    {
      "cell_type": "code",
      "source": [
        "def prob_at_least_one_greater_than_x(m, n, x):\n",
        "    \"\"\"\n",
        "    Calculate the probability of rolling m dice (each with n sides)\n",
        "    and having at least one die show a value greater than or equal to x.\n",
        "\n",
        "    Args:\n",
        "    m (int): Number of dice.\n",
        "    n (int): Number of sides per die.\n",
        "    x (int): Target value for each die.\n",
        "\n",
        "    Returns:\n",
        "    float: The probability of at least one die showing a value greater than or equal to x.\n",
        "    \"\"\"\n",
        "    # Generate all possible outcomes for rolling m dice with n sides\n",
        "    rolls = list(itertools.product(range(1, n+1), repeat=m))\n",
        "\n",
        "    # Calculate the proportion of outcomes where at least one die is >= x\n",
        "    success_count = 0\n",
        "    for roll in rolls:\n",
        "        if any(die >= x for die in roll):\n",
        "            success_count += 1\n",
        "\n",
        "    # Calculate the probability\n",
        "    probability = success_count / len(rolls)\n",
        "\n",
        "    return probability\n"
      ],
      "metadata": {
        "id": "mxPPesKHG_kz"
      },
      "execution_count": null,
      "outputs": []
    },
    {
      "cell_type": "markdown",
      "source": [
        "Example: Evaluating the Performance of the Player’s Choice\n",
        "Now, we use these two functions to solve the given problem:\n",
        "\n",
        "Roll 1d20 and get a result of 17 or more\n",
        "Roll 3d4 and get a result of 10 or more\n",
        "Roll 4d6 and have at least one die show a 6"
      ],
      "metadata": {
        "id": "VA7r6MdBHFPT"
      }
    },
    {
      "cell_type": "code",
      "source": [
        "# Scenario 1: Roll 1d20 and get a result of 17 or more\n",
        "prob_1d20 = prob_sum_greater_than_x(1, 20, 16)\n",
        "print(f\"Probability of rolling 1d20 and getting 17 or more: {prob_1d20:.4f}\")\n",
        "\n",
        "# Scenario 2: Roll 3d4 and get a result of 10 or more\n",
        "prob_3d4 = prob_sum_greater_than_x(3, 4, 9)\n",
        "print(f\"Probability of rolling 3d4 and getting 10 or more: {prob_3d4:.4f}\")\n",
        "\n",
        "# Scenario 3: Roll 4d6 and have at least one dice show a 6\n",
        "prob_4d6 = prob_at_least_one_greater_than_x(4, 6, 6)\n",
        "print(f\"Probability of rolling 4d6 and getting at least one 6: {prob_4d6:.4f}\")\n"
      ],
      "metadata": {
        "id": "4Dc2yh2oHItF"
      },
      "execution_count": null,
      "outputs": []
    },
    {
      "cell_type": "markdown",
      "source": [
        "**Output**"
      ],
      "metadata": {
        "id": "kJz5ABiEHL_z"
      }
    },
    {
      "cell_type": "code",
      "source": [
        "Probability of rolling 1d20 and getting 17 or more: 0.2000\n",
        "Probability of rolling 3d4 and getting 10 or more: 0.1250\n",
        "Probability of rolling 4d6 and getting at least one 6: 0.5177\n"
      ],
      "metadata": {
        "id": "Ult_A2qWHO3V"
      },
      "execution_count": null,
      "outputs": []
    },
    {
      "cell_type": "markdown",
      "source": [
        "Interpretation\n",
        "The player is facing three options:\n",
        "\n",
        "1d20 (getting 17 or more): Probability = 20%\n",
        "3d4 (getting 10 or more): Probability = 12.5%\n",
        "4d6 (at least one die shows 6): Probability = 51.77%\n",
        "The best choice for the player would be to roll 4d6 and aim for at least one die showing a 6, as it has the highest probability of success."
      ],
      "metadata": {
        "id": "LS0rIi2HHR0i"
      }
    },
    {
      "cell_type": "markdown",
      "source": [
        "Conclusion\n",
        "\n",
        "*   Code Explanation: The code provides two key functions to compute probabilities for two different scenarios: the probability of rolling a sum greater than a specified value and the probability of at least one die meeting a threshold.\n",
        "*   Application: The functions are used to solve a scenario where a player must choose between different challenges, with the analysis revealing that rolling 4d6 offers the highest chance of success.\n",
        "\n",
        "This approach enables players to make informed decisions based on probability calculations during gameplay.\n",
        "\n"
      ],
      "metadata": {
        "id": "F7dUmxo7HV1T"
      }
    }
  ]
}
