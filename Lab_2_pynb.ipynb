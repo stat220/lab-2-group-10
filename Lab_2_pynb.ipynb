{
  "nbformat": 4,
  "nbformat_minor": 0,
  "metadata": {
    "colab": {
      "provenance": []
    },
    "kernelspec": {
      "name": "python3",
      "display_name": "Python 3"
    },
    "language_info": {
      "name": "python"
    }
  },
  "cells": [
    {
      "cell_type": "code",
      "source": [
        "import itertools\n",
        "import numpy as np"
      ],
      "metadata": {
        "id": "msrJP3wDYNHk"
      },
      "execution_count": 1,
      "outputs": []
    },
    {
      "cell_type": "markdown",
      "source": [
        "The Red Dragon Inn is an online Dungeons and Dragons community, connecting players worldwide. In this lab, you will develop a tool that helps users calculate the probabilities of specific events occurring during gameplay, enhancing their strategic planning. For instance, users may wish to calculate the probability of the sum of two six-sided dice being 10 or more. In Dungeons and Dragons, the notation mdn denotes the process of rolling m dice, each with n sides. Here, rolling two six-sided dice is expressed as 2d6, and rolling three eight-sided dice is denoted by 3d8. You are tasked with creating a utility to assist players in the following two scenarios:\n",
        "\n",
        "A Calculating the probability of rolling m dice, each with n sides, and having the sum of the dice be greater than x. This calculation should only be implemented for m = 1 through 4 and n is at most 20.\n"
      ],
      "metadata": {
        "id": "z3ut9Nl_CNgH"
      }
    },
    {
      "cell_type": "code",
      "source": [
        "def calculate_probability(m, n, x):\n",
        "    \"\"\"Calculates the probability of rolling m dice, each with n sides, and having the sum of the dice be greater than x.\n",
        "\n",
        "    Args:\n",
        "        m: The number of dice to roll (1-4).\n",
        "        n: The number of sides on each die (1-20).\n",
        "        x: The target sum.\n",
        "\n",
        "    Returns:\n",
        "        The probability of rolling a sum greater than x.\n",
        "    \"\"\"\n",
        "\n",
        "    if not (1 <= m <= 4 and 1 <= n <= 20):\n",
        "        raise ValueError(\"Invalid parameters: m and n must be between 1 and 20.\")\n",
        "\n",
        "\n",
        "    rolls = list(itertools.product(range(1, n+1), repeat=m))\n",
        "    sums = np.array([sum(roll) for roll in rolls])\n",
        "    probability = np.mean(sums > x)\n",
        "    return probability\n",
        "\n"
      ],
      "metadata": {
        "id": "nP6tEYAdXMtw"
      },
      "execution_count": 2,
      "outputs": []
    },
    {
      "cell_type": "markdown",
      "source": [
        "The first problem asks for the probability of the sum of the dice being greater than x, while the second problem asks for the probability of at least one die being greater than or equal to x."
      ],
      "metadata": {
        "id": "EZESQa0db05A"
      }
    },
    {
      "cell_type": "code",
      "source": [
        "def calculate_probability_2(m, n, x):\n",
        "    \"\"\"Calculates the probability of rolling at least one die greater than or equal to x.\n",
        "\n",
        "    Args:\n",
        "        m: The number of dice to roll.\n",
        "        n: The number of sides on each die.\n",
        "        x: The target value.\n",
        "\n",
        "    Returns:\n",
        "        The probability of at least one die being greater than or equal to x.\n",
        "    \"\"\"\n",
        "\n",
        "    # Probability of a single die *not* being greater than or equal to x\n",
        "    p_not_greater = (x - 1) / n\n",
        "\n",
        "    # Probability of *all* dice *not* being greater than or equal to x\n",
        "    p_all_not_greater = p_not_greater ** m\n",
        "\n",
        "    # Probability of at least one die being greater than or equal to x\n",
        "    probability = 1 - p_all_not_greater\n",
        "\n",
        "    return probability\n",
        "\n"
      ],
      "metadata": {
        "id": "phvlMuywb0c6"
      },
      "execution_count": 3,
      "outputs": []
    },
    {
      "cell_type": "code",
      "source": [
        "import itertools\n",
        "# List out all possible rolls, in this case for 3d6\n",
        "# rolls = list(itertools.product(range(1, 7), repeat=3))\n",
        "\n",
        "# Create a list of all possible outcomes for rolling 3 six-sided dice (3d6).\n",
        "rolls = list(itertools.product(range(1, 7), repeat=3))\n",
        "\n",
        "# Example: Print the first 5 rolls\n",
        "print(rolls[:5])\n"
      ],
      "metadata": {
        "colab": {
          "base_uri": "https://localhost:8080/"
        },
        "id": "6YbYDZ7JCkFj",
        "outputId": "8457093a-81b5-49d5-cb5a-93a9fabfcc64"
      },
      "execution_count": 4,
      "outputs": [
        {
          "output_type": "stream",
          "name": "stdout",
          "text": [
            "[(1, 1, 1), (1, 1, 2), (1, 1, 3), (1, 1, 4), (1, 1, 5)]\n"
          ]
        }
      ]
    },
    {
      "cell_type": "code",
      "source": [
        "m = 2   # Number of dice\n",
        "n = 6 # Number of sides on each die\n",
        "x = 7 # Target value\n",
        "probability = calculate_probability(m, n, x)\n",
        "print(\"Probability:\", probability)"
      ],
      "metadata": {
        "id": "OhQ9VZWpBSdf",
        "outputId": "ab88dc33-33d4-4b0b-f677-00c8d8ad81a6",
        "colab": {
          "base_uri": "https://localhost:8080/"
        }
      },
      "execution_count": 5,
      "outputs": [
        {
          "output_type": "stream",
          "name": "stdout",
          "text": [
            "Probability: 0.4166666666666667\n"
          ]
        }
      ]
    },
    {
      "cell_type": "code",
      "source": [
        "m = 1   # Number of dice\n",
        "n = 20 # Number of sides on each die\n",
        "x = 17 # Target value\n",
        "probability = calculate_probability(m, n, x)\n",
        "print(\"Probability:\", probability)"
      ],
      "metadata": {
        "colab": {
          "base_uri": "https://localhost:8080/"
        },
        "id": "9AjoBH7ZspOF",
        "outputId": "dd39229d-a58b-4cc8-801e-9868e66cdfb9"
      },
      "execution_count": 6,
      "outputs": [
        {
          "output_type": "stream",
          "name": "stdout",
          "text": [
            "Probability: 0.15\n"
          ]
        }
      ]
    },
    {
      "cell_type": "markdown",
      "source": [
        "In this case the probabilty of rolling 1d20 dice and getting a result of 17 or more is 15%."
      ],
      "metadata": {
        "id": "kgjLuXmotudU"
      }
    },
    {
      "cell_type": "code",
      "source": [
        "m = 3  # Number of dice\n",
        "n = 4  # Number of sides on each die\n",
        "x = 10  # Target value\n",
        "probability = calculate_probability(m, n, x)\n",
        "print(\"Probability:\", probability)"
      ],
      "metadata": {
        "colab": {
          "base_uri": "https://localhost:8080/"
        },
        "id": "vTW2xx5xsqJB",
        "outputId": "2ba827e4-dc5e-4de9-f5c8-56529f120109"
      },
      "execution_count": 7,
      "outputs": [
        {
          "output_type": "stream",
          "name": "stdout",
          "text": [
            "Probability: 0.0625\n"
          ]
        }
      ]
    },
    {
      "cell_type": "markdown",
      "source": [
        "In this case the probabilty of rolling 3d4 dice and getting a result of 10 or more is 6%."
      ],
      "metadata": {
        "id": "BAylnudauQ0L"
      }
    },
    {
      "cell_type": "code",
      "source": [
        "m = 4  # Number of dice\n",
        "n = 6  # Number of sides on each die\n",
        "x = 6 # Target value\n",
        "probability = calculate_probability_2(m, n, x)\n",
        "print(\"Probability:\", probability)"
      ],
      "metadata": {
        "colab": {
          "base_uri": "https://localhost:8080/"
        },
        "id": "A9cW77JfsprG",
        "outputId": "6e3171be-f8f6-4507-b98a-768f51323e39"
      },
      "execution_count": 8,
      "outputs": [
        {
          "output_type": "stream",
          "name": "stdout",
          "text": [
            "Probability: 0.5177469135802468\n"
          ]
        }
      ]
    },
    {
      "cell_type": "markdown",
      "source": [
        "Lastly: In this case the probabilty of rolling 4d6 dice and getting at least one dice to show a 6 is about 52%"
      ],
      "metadata": {
        "id": "VgXHWStzuXJo"
      }
    },
    {
      "cell_type": "markdown",
      "source": [
        "References:\n",
        "\n",
        "**Single Die Probability:** First calculated the probability of one die not being greater than or equal to x. This is the number of outcomes that are less than x divided by the total number of possible outcomes.\n",
        "\n",
        "**Multiple Dice Probability:** Then calculated the probability of all dice not being greater than or equal to x. The rolls of each individual dice are independent events since one roll does not impact the chances of another roll. This allows us to multiply the probabilities of each die not being greater than x (the single die probability).\n",
        "\n",
        "**Complement Rule:** Finally, we used the complement rule to find the probability of at least one die being greater than or equal to x. This is 1 minus the probability of all dice not being greater than or equal to x.Referncing the idea of P(A) + P(not A) = 1. Which was discussed in class."
      ],
      "metadata": {
        "id": "5_R0BhBjedpZ"
      }
    }
  ]
}